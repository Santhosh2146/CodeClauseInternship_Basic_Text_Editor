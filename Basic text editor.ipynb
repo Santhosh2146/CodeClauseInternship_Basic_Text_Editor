{
 "cells": [
  {
   "cell_type": "code",
   "execution_count": null,
   "id": "b6f88736",
   "metadata": {},
   "outputs": [],
   "source": [
    "import tkinter as tk\n",
    "from tkinter import filedialog\n",
    "\n",
    "def new_file():\n",
    "    text.delete(\"1.0\", tk.END)\n",
    "\n",
    "def open_file():\n",
    "    file_path = filedialog.askopenfilename()\n",
    "    if file_path:\n",
    "        with open(file_path, \"r\") as file:\n",
    "            text.delete(\"1.0\", tk.END)\n",
    "            text.insert(\"1.0\", file.read())\n",
    "\n",
    "def save_file():\n",
    "    file_path = filedialog.asksaveasfilename(defaultextension=\".txt\")\n",
    "    if file_path:\n",
    "        with open(file_path, \"w\") as file:\n",
    "            file.write(text.get(\"1.0\", tk.END))\n",
    "\n",
    "# Create the main application window\n",
    "root = tk.Tk()\n",
    "root.title(\"Basic Text Editor\")\n",
    "\n",
    "# Create a Text widget for text input\n",
    "text = tk.Text(root)\n",
    "text.pack()\n",
    "\n",
    "# Create a menu bar\n",
    "menu_bar = tk.Menu(root)\n",
    "root.config(menu=menu_bar)\n",
    "\n",
    "# File menu\n",
    "file_menu = tk.Menu(menu_bar, tearoff=0)\n",
    "menu_bar.add_cascade(label=\"File\", menu=file_menu)\n",
    "file_menu.add_command(label=\"New\", command=new_file)\n",
    "file_menu.add_command(label=\"Open\", command=open_file)\n",
    "file_menu.add_command(label=\"Save\", command=save_file)\n",
    "file_menu.add_separator()\n",
    "file_menu.add_command(label=\"Exit\", command=root.quit)\n",
    "\n",
    "# Run the application\n",
    "root.mainloop()\n"
   ]
  }
 ],
 "metadata": {
  "kernelspec": {
   "display_name": "Python 3 (ipykernel)",
   "language": "python",
   "name": "python3"
  },
  "language_info": {
   "codemirror_mode": {
    "name": "ipython",
    "version": 3
   },
   "file_extension": ".py",
   "mimetype": "text/x-python",
   "name": "python",
   "nbconvert_exporter": "python",
   "pygments_lexer": "ipython3",
   "version": "3.11.4"
  }
 },
 "nbformat": 4,
 "nbformat_minor": 5
}
